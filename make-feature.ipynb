{
 "cells": [
  {
   "cell_type": "code",
   "execution_count": null,
   "metadata": {},
   "outputs": [],
   "source": [
    "import pandas as pd\n",
    "import os\n",
    "import numpy as np"
   ]
  },
  {
   "cell_type": "code",
   "execution_count": null,
   "metadata": {},
   "outputs": [],
   "source": [
    "os.chdir('MovieLens-1m')\n",
    "movie = pd.read_csv(\"movies1m.csv\")\n",
    "movie[\"m_id\"] =  movie[\"id\"].factorize()[0]"
   ]
  },
  {
   "cell_type": "code",
   "execution_count": null,
   "metadata": {},
   "outputs": [],
   "source": [
    "rating = pd.read_csv(\"ratings1m.csv\")\n",
    "rating = pd.merge(rating, movie, left_on='movie', right_on='id', how='left')\n",
    "rating[\"u_id\"] = rating[\"user\"].factorize()[0]\n",
    "rating['score'] = pd.Categorical(rating['score'], ordered=True)\n",
    "rating['time'] = pd.to_datetime(rating['timestamp'], unit='s', origin='1970-01-01', utc=True)\n",
    "rating = rating[['u_id', 'm_id', 'score', 'time']]"
   ]
  },
  {
   "cell_type": "code",
   "execution_count": null,
   "metadata": {},
   "outputs": [],
   "source": [
    "from collections import deque\n",
    "rating.sort_values(\"time\", inplace=True)"
   ]
  },
  {
   "cell_type": "code",
   "execution_count": null,
   "metadata": {},
   "outputs": [],
   "source": [
    "# 30 most recent reviews for each movie\n",
    "MOVIE_WINDOW_LEN = 30\n",
    "movie_y = [deque(maxlen=MOVIE_WINDOW_LEN) for _ in range(len(movie))]\n",
    "\n",
    "users = list(rating[\"u_id\"].unique())\n",
    "# Length of current positive review streak for each user\n",
    "user_pos_len = pd.Series(0, index=users)\n",
    "user_neg_len = pd.Series(0, index=users)\n",
    "\n",
    "rating_var = []\n",
    "\n",
    "for _, rate in rating.iterrows():\n",
    "    u = rate[\"u_id\"]\n",
    "    pu = user_pos_len[u]\n",
    "    nu = user_neg_len[u]\n",
    "    \n",
    "    m = rate[\"m_id\"]\n",
    "    ym = movie_y[m]\n",
    "    tm = len(ym)\n",
    "    pm = sum(ym)\n",
    "    nm = tm - pm\n",
    "    \n",
    "    rating_var.append((pu, nu, pm, nm))\n",
    "    \n",
    "    y = rate[\"score\"] >= 4.0\n",
    "    if y:\n",
    "        user_pos_len[u] += 1\n",
    "        user_neg_len[u] = 0\n",
    "    else:\n",
    "        user_pos_len[u] = 0\n",
    "        user_neg_len[u] += 1\n",
    "    ym.append(y)"
   ]
  },
  {
   "cell_type": "code",
   "execution_count": null,
   "metadata": {},
   "outputs": [],
   "source": [
    "rating_features = pd.DataFrame(rating_var, columns=[\"user_pos_len\", \"user_neg_len\", \"movie_pos\", \"movie_neg\"], index = rating.index)\n",
    "rating_features.sort_index(inplace = True)\n",
    "os.chdir('..')\n",
    "rating_features.to_csv(\"rating-feature.csv\")"
   ]
  }
 ],
 "metadata": {
  "kernelspec": {
   "display_name": "Python 3 (ipykernel)",
   "language": "python",
   "name": "python3"
  },
  "language_info": {
   "codemirror_mode": {
    "name": "ipython",
    "version": 3
   },
   "file_extension": ".py",
   "mimetype": "text/x-python",
   "name": "python",
   "nbconvert_exporter": "python",
   "pygments_lexer": "ipython3",
   "version": "3.9.7"
  }
 },
 "nbformat": 4,
 "nbformat_minor": 2
}
